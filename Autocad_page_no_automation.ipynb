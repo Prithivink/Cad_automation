{
 "cells": [
  {
   "cell_type": "code",
   "execution_count": 9,
   "id": "65454103",
   "metadata": {},
   "outputs": [],
   "source": [
    "import pyautogui as pg\n",
    "import os\n",
    "import time"
   ]
  },
  {
   "cell_type": "code",
   "execution_count": 10,
   "id": "7bc08975",
   "metadata": {},
   "outputs": [],
   "source": [
    "def get_dwg_files():\n",
    "    global dwg_files\n",
    "    global path\n",
    "    path = \"C:/Users/Administrator/gui/autocad_auto/OneDrive_1_7-19-2023/Working\"\n",
    "    os.chdir(path)\n",
    "    all_files = os.listdir()\n",
    "    dwg_files = []\n",
    "    for i in all_files:\n",
    "        if i.endswith(\".dwg\"):\n",
    "            dwg_files.append(i)"
   ]
  },
  {
   "cell_type": "code",
   "execution_count": 11,
   "id": "884849ae",
   "metadata": {},
   "outputs": [],
   "source": [
    "def start_autocad():\n",
    "    global status\n",
    "    os.startfile(\"C:\\\\Program Files\\\\Autodesk\\\\AutoCAD 2024\\\\acad.exe\")\n",
    "    time.sleep(20)\n",
    "    status = pg.confirm(text='Is autocad opened', title=\"Status\", buttons=['OK', 'Cancel'])"
   ]
  },
  {
   "cell_type": "code",
   "execution_count": 12,
   "id": "043b2a7f",
   "metadata": {},
   "outputs": [],
   "source": [
    "def operate_fn():\n",
    "    if status == 'OK':\n",
    "        pg.hotkey('alt','f4')\n",
    "        time.sleep(2)\n",
    "        page_no = 333\n",
    "        for files in dwg_files:\n",
    "            time.sleep(5)\n",
    "            pg.keyDown('ctrl')\n",
    "            pg.keyDown('o')\n",
    "            time.sleep(2)\n",
    "            pg.keyUp('o')\n",
    "            pg.keyUp('ctrl')\n",
    "            time.sleep(2)\n",
    "            pg.write('C:/Users/Administrator/gui/autocad_auto/OneDrive_1_7-19-2023/Working/{}'.format(files),interval=0.01)\n",
    "            time.sleep(1)\n",
    "            pg.hotkey('enter')\n",
    "            time.sleep(2)\n",
    "            pg.hotkey('enter')\n",
    "            time.sleep(5)\n",
    "            pg.press('z')\n",
    "            time.sleep(2)\n",
    "            pg.press('enter')\n",
    "            time.sleep(2)\n",
    "            pg.press('a')\n",
    "            pg.press('enter')\n",
    "            time.sleep(1)\n",
    "            pg.write('burst')\n",
    "            time.sleep(2)\n",
    "            pg.press('enter')\n",
    "            time.sleep(1)\n",
    "            pg.moveTo(x=980,y=667)\n",
    "            time.sleep(2)\n",
    "            pg.click()\n",
    "            time.sleep(1)\n",
    "            pg.press('enter')\n",
    "            time.sleep(1)\n",
    "            pg.click(x=980,y=667,clicks=2,interval=0.05)\n",
    "            time.sleep(1)\n",
    "            pg.hotkey('ctrl','a')\n",
    "            time.sleep(1)\n",
    "            pg.press('del')\n",
    "            time.sleep(1)\n",
    "            pg.write(str(page_no))\n",
    "            time.sleep(2)\n",
    "            pg.click(x=980,y=560,interval=0.1)\n",
    "            time.sleep(1)\n",
    "            pg.hotkey('ctrl','s')\n",
    "            time.sleep(1)\n",
    "            pg.write('close')\n",
    "            time.sleep(1)\n",
    "            pg.press('enter')\n",
    "            time.sleep(1)\n",
    "            page_no = page_no + 1\n",
    "    else:\n",
    "        print(\"not working\")"
   ]
  },
  {
   "cell_type": "code",
   "execution_count": 14,
   "id": "1df25bd3",
   "metadata": {},
   "outputs": [],
   "source": [
    "get_dwg_files()\n",
    "start_autocad()\n",
    "operate_fn()"
   ]
  },
  {
   "cell_type": "raw",
   "id": "95164b95",
   "metadata": {},
   "source": []
  },
  {
   "cell_type": "raw",
   "id": "548836c5",
   "metadata": {},
   "source": [
    "# "
   ]
  }
 ],
 "metadata": {
  "kernelspec": {
   "display_name": "Python 3",
   "language": "python",
   "name": "python3"
  },
  "language_info": {
   "codemirror_mode": {
    "name": "ipython",
    "version": 3
   },
   "file_extension": ".py",
   "mimetype": "text/x-python",
   "name": "python",
   "nbconvert_exporter": "python",
   "pygments_lexer": "ipython3",
   "version": "3.8.8"
  }
 },
 "nbformat": 4,
 "nbformat_minor": 5
}
